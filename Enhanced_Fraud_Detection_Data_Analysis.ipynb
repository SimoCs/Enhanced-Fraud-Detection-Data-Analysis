{
  "cells": [
    {
      "cell_type": "markdown",
      "id": "7bd8189c",
      "metadata": {
        "papermill": {
          "duration": 0.011184,
          "end_time": "2022-08-05T06:48:13.294471",
          "exception": false,
          "start_time": "2022-08-05T06:48:13.283287",
          "status": "completed"
        },
        "tags": [],
        "id": "7bd8189c"
      },
      "source": [
        "# Enhanced Fraud Detection Data Analysis\n",
        "\n",
        "1. Import necessary libraries\n",
        "2. Acquire and explore dataset\n",
        "3. Clean and preprocess the data\n",
        "4. Engineer new features \n",
        "5. Split the data into training and testing subsets\n",
        "6. Select, implement, and compare various machine learning algorithms\n",
        "7. Train the chosen models and optimize their hyperparameters\n",
        "8. Evaluate the models using appropriate performance metrics"
      ]
    },
    {
      "cell_type": "markdown",
      "id": "9d205877",
      "metadata": {
        "papermill": {
          "duration": 0.010213,
          "end_time": "2022-08-05T06:48:13.315796",
          "exception": false,
          "start_time": "2022-08-05T06:48:13.305583",
          "status": "completed"
        },
        "tags": [],
        "id": "9d205877"
      },
      "source": [
        "# Importing Necessary Libraries"
      ]
    },
    {
      "cell_type": "code",
      "execution_count": 2,
      "id": "e63e958b",
      "metadata": {
        "execution": {
          "iopub.execute_input": "2022-08-05T06:48:13.329628Z",
          "iopub.status.busy": "2022-08-05T06:48:13.328789Z",
          "iopub.status.idle": "2022-08-05T06:48:14.614249Z",
          "shell.execute_reply": "2022-08-05T06:48:14.613099Z"
        },
        "papermill": {
          "duration": 1.295729,
          "end_time": "2022-08-05T06:48:14.617193",
          "exception": false,
          "start_time": "2022-08-05T06:48:13.321464",
          "status": "completed"
        },
        "tags": [],
        "id": "e63e958b"
      },
      "outputs": [],
      "source": [
        "# Data Analysis\n",
        "import pandas as pd\n",
        "import numpy as np\n",
        "\n",
        "# Data Visualization\n",
        "from matplotlib import pyplot as plt\n",
        "import seaborn as sns\n",
        "\n",
        "# Machine Learning\n",
        "from sklearn.impute import SimpleImputer\n",
        "from sklearn.model_selection import train_test_split\n",
        "from sklearn.preprocessing import StandardScaler\n",
        "from imblearn.over_sampling import SMOTE\n",
        "from sklearn.metrics import roc_auc_score\n",
        "from sklearn.ensemble import RandomForestClassifier\n",
        "from sklearn.linear_model import LogisticRegression\n",
        "import xgboost as xgb\n",
        "from sklearn.metrics import roc_auc_score, accuracy_score, classification_report\n",
        "\n",
        "# Warnings\n",
        "import warnings\n",
        "warnings.filterwarnings('ignore')"
      ]
    },
    {
      "cell_type": "markdown",
      "id": "b2745974",
      "metadata": {
        "papermill": {
          "duration": 0.005686,
          "end_time": "2022-08-05T06:48:14.628955",
          "exception": false,
          "start_time": "2022-08-05T06:48:14.623269",
          "status": "completed"
        },
        "tags": [],
        "id": "b2745974"
      },
      "source": [
        "# Data Loading, Understanding, and Cleaning"
      ]
    },
    {
      "cell_type": "markdown",
      "source": [
        "## Loading Train Data"
      ],
      "metadata": {
        "id": "Fami1r6DGw3m"
      },
      "id": "Fami1r6DGw3m"
    },
    {
      "cell_type": "code",
      "execution_count": 3,
      "id": "55c456c8",
      "metadata": {
        "execution": {
          "iopub.execute_input": "2022-08-05T06:48:14.668455Z",
          "iopub.status.busy": "2022-08-05T06:48:14.668199Z",
          "iopub.status.idle": "2022-08-05T06:50:21.431265Z",
          "shell.execute_reply": "2022-08-05T06:50:21.430282Z"
        },
        "papermill": {
          "duration": 126.778745,
          "end_time": "2022-08-05T06:50:21.440306",
          "exception": false,
          "start_time": "2022-08-05T06:48:14.661561",
          "status": "completed"
        },
        "tags": [],
        "colab": {
          "base_uri": "https://localhost:8080/"
        },
        "id": "55c456c8",
        "outputId": "8e69edf9-3f7f-4fd3-bbba-fa7cef4bc8df"
      },
      "outputs": [
        {
          "output_type": "execute_result",
          "data": {
            "text/plain": [
              "(590540, 394)"
            ]
          },
          "metadata": {},
          "execution_count": 3
        }
      ],
      "source": [
        "# Loading train_transaction data\n",
        "train_transaction = pd.read_csv('train_transaction.csv')\n",
        "train_transaction.shape"
      ]
    },
    {
      "cell_type": "code",
      "execution_count": 4,
      "id": "96c0bb17",
      "metadata": {
        "execution": {
          "iopub.execute_input": "2022-08-05T06:50:21.455268Z",
          "iopub.status.busy": "2022-08-05T06:50:21.454975Z",
          "iopub.status.idle": "2022-08-05T06:50:22.628815Z",
          "shell.execute_reply": "2022-08-05T06:50:22.627668Z"
        },
        "papermill": {
          "duration": 1.183335,
          "end_time": "2022-08-05T06:50:22.631195",
          "exception": false,
          "start_time": "2022-08-05T06:50:21.447860",
          "status": "completed"
        },
        "tags": [],
        "colab": {
          "base_uri": "https://localhost:8080/"
        },
        "id": "96c0bb17",
        "outputId": "95605bae-8575-4e65-bc47-ded57534774f"
      },
      "outputs": [
        {
          "output_type": "execute_result",
          "data": {
            "text/plain": [
              "(144233, 41)"
            ]
          },
          "metadata": {},
          "execution_count": 4
        }
      ],
      "source": [
        "# Loading train_identity data\n",
        "train_identity = pd.read_csv('train_identity.csv')\n",
        "train_identity.shape"
      ]
    },
    {
      "cell_type": "code",
      "source": [
        "train_df = pd.merge(train_transaction, train_identity, how='left')\n",
        "train_df.shape"
      ],
      "metadata": {
        "colab": {
          "base_uri": "https://localhost:8080/"
        },
        "id": "hADzXw6sCFO7",
        "outputId": "ba857637-aedc-4503-9f5d-61c5dfbe2702"
      },
      "id": "hADzXw6sCFO7",
      "execution_count": 5,
      "outputs": [
        {
          "output_type": "execute_result",
          "data": {
            "text/plain": [
              "(590540, 434)"
            ]
          },
          "metadata": {},
          "execution_count": 5
        }
      ]
    },
    {
      "cell_type": "code",
      "source": [
        "del train_transaction, train_identity"
      ],
      "metadata": {
        "id": "FU6MX-9BqTji"
      },
      "id": "FU6MX-9BqTji",
      "execution_count": 6,
      "outputs": []
    },
    {
      "cell_type": "code",
      "source": [
        "len_train_df = len(train_df)"
      ],
      "metadata": {
        "id": "ioEQaCZqyt8q"
      },
      "id": "ioEQaCZqyt8q",
      "execution_count": 7,
      "outputs": []
    },
    {
      "cell_type": "markdown",
      "source": [
        "## Loading Test Data"
      ],
      "metadata": {
        "id": "aZ1SV0QWG6--"
      },
      "id": "aZ1SV0QWG6--"
    },
    {
      "cell_type": "code",
      "source": [
        "# Loading test data\n",
        "test_transaction = pd.read_csv('test_transaction.csv')\n",
        "test_transaction.shape"
      ],
      "metadata": {
        "colab": {
          "base_uri": "https://localhost:8080/"
        },
        "id": "cGVdlMduqeR0",
        "outputId": "c99df3e7-0880-4859-87b1-8a65682040f3"
      },
      "id": "cGVdlMduqeR0",
      "execution_count": 8,
      "outputs": [
        {
          "output_type": "execute_result",
          "data": {
            "text/plain": [
              "(506691, 393)"
            ]
          },
          "metadata": {},
          "execution_count": 8
        }
      ]
    },
    {
      "cell_type": "code",
      "source": [
        "test_identity = pd.read_csv('test_identity.csv')\n",
        "test_identity.shape"
      ],
      "metadata": {
        "colab": {
          "base_uri": "https://localhost:8080/"
        },
        "id": "1eRD6Oobqgyd",
        "outputId": "f757e170-f2a2-4ffe-a207-9ff9887201c0"
      },
      "id": "1eRD6Oobqgyd",
      "execution_count": 9,
      "outputs": [
        {
          "output_type": "execute_result",
          "data": {
            "text/plain": [
              "(141907, 41)"
            ]
          },
          "metadata": {},
          "execution_count": 9
        }
      ]
    },
    {
      "cell_type": "code",
      "execution_count": 10,
      "id": "e2c61fed",
      "metadata": {
        "execution": {
          "iopub.execute_input": "2022-08-05T06:50:24.859740Z",
          "iopub.status.busy": "2022-08-05T06:50:24.858124Z",
          "iopub.status.idle": "2022-08-05T06:52:16.679149Z",
          "shell.execute_reply": "2022-08-05T06:52:16.678143Z"
        },
        "papermill": {
          "duration": 111.830892,
          "end_time": "2022-08-05T06:52:16.681288",
          "exception": false,
          "start_time": "2022-08-05T06:50:24.850396",
          "status": "completed"
        },
        "tags": [],
        "id": "e2c61fed",
        "outputId": "22b73701-164c-41ca-cd76-c4a08c5968d7",
        "colab": {
          "base_uri": "https://localhost:8080/"
        }
      },
      "outputs": [
        {
          "output_type": "execute_result",
          "data": {
            "text/plain": [
              "(506691, 433)"
            ]
          },
          "metadata": {},
          "execution_count": 10
        }
      ],
      "source": [
        "test_df = pd.merge(test_transaction, test_identity, how='left')\n",
        "test_df.columns = train_df.drop('isFraud', axis=1).columns\n",
        "test_df.shape"
      ]
    },
    {
      "cell_type": "code",
      "source": [
        "del test_transaction, test_identity"
      ],
      "metadata": {
        "id": "KzI9uAG0qdYE"
      },
      "id": "KzI9uAG0qdYE",
      "execution_count": 11,
      "outputs": []
    },
    {
      "cell_type": "markdown",
      "source": [
        "# Data Cleaning"
      ],
      "metadata": {
        "id": "0u85Vflrnlc0"
      },
      "id": "0u85Vflrnlc0"
    },
    {
      "cell_type": "code",
      "execution_count": 12,
      "id": "1d70ec09",
      "metadata": {
        "execution": {
          "iopub.execute_input": "2022-08-05T06:52:16.725188Z",
          "iopub.status.busy": "2022-08-05T06:52:16.724930Z",
          "iopub.status.idle": "2022-08-05T06:52:24.850873Z",
          "shell.execute_reply": "2022-08-05T06:52:24.849823Z"
        },
        "papermill": {
          "duration": 8.136417,
          "end_time": "2022-08-05T06:52:24.853070",
          "exception": false,
          "start_time": "2022-08-05T06:52:16.716653",
          "status": "completed"
        },
        "tags": [],
        "id": "1d70ec09",
        "outputId": "7a9188ba-68f8-44a8-8fe4-2f701730998d",
        "colab": {
          "base_uri": "https://localhost:8080/"
        }
      },
      "outputs": [
        {
          "output_type": "execute_result",
          "data": {
            "text/plain": [
              "0"
            ]
          },
          "metadata": {},
          "execution_count": 12
        }
      ],
      "source": [
        "# Duplicates check in train data\n",
        "train_df.duplicated().sum()"
      ]
    },
    {
      "cell_type": "markdown",
      "id": "9a7b53eb",
      "metadata": {
        "papermill": {
          "duration": 0.007232,
          "end_time": "2022-08-05T06:52:24.868019",
          "exception": false,
          "start_time": "2022-08-05T06:52:24.860787",
          "status": "completed"
        },
        "tags": [],
        "id": "9a7b53eb"
      },
      "source": [
        "This dataset has 434 columns, with the dependent variable being 'isFraud'. The dataset is split into two parts: the training data, which contains 590,540 samples, and the test data, which includes 506,691 records. We have verified that there are no duplicate entries in the dataset. Next, let's explore the distribution of the dependent variable, 'isFraud', to understand its characteristics better."
      ]
    },
    {
      "cell_type": "code",
      "execution_count": 13,
      "id": "ef3f20c4",
      "metadata": {
        "execution": {
          "iopub.execute_input": "2022-08-05T06:52:24.883768Z",
          "iopub.status.busy": "2022-08-05T06:52:24.883475Z",
          "iopub.status.idle": "2022-08-05T06:52:25.013421Z",
          "shell.execute_reply": "2022-08-05T06:52:25.012335Z"
        },
        "papermill": {
          "duration": 0.141295,
          "end_time": "2022-08-05T06:52:25.016605",
          "exception": false,
          "start_time": "2022-08-05T06:52:24.875310",
          "status": "completed"
        },
        "tags": [],
        "id": "ef3f20c4",
        "outputId": "729eaa41-e0c4-4fe5-a3e8-55e3bec94f38",
        "colab": {
          "base_uri": "https://localhost:8080/",
          "height": 406
        }
      },
      "outputs": [
        {
          "output_type": "display_data",
          "data": {
            "text/plain": [
              "<Figure size 640x480 with 1 Axes>"
            ],
            "image/png": "[encoded data removed]"
          },
          "metadata": {}
        }
      ],
      "source": [
        "# Class imbalance check\n",
        "plt.pie(train_df.isFraud.value_counts(), labels=['Not Fraud', 'Fraud'], autopct='%0.1f%%')\n",
        "plt.axis('equal')\n",
        "plt.show()"
      ]
    },
    {
      "cell_type": "markdown",
      "id": "94783764",
      "metadata": {
        "papermill": {
          "duration": 0.019407,
          "end_time": "2022-08-05T06:52:25.055735",
          "exception": false,
          "start_time": "2022-08-05T06:52:25.036328",
          "status": "completed"
        },
        "tags": [],
        "id": "94783764"
      },
      "source": [
        "As anticipated, this dataset presents a class imbalance issue. To address this, we will employ the Synthetic Minority Over-sampling Technique (SMOTE) in subsequent steps. But first, let's examine the distribution of the 'timestamp' column to gain further insights into the data."
      ]
    },
    {
      "cell_type": "code",
      "execution_count": 14,
      "id": "14402853",
      "metadata": {
        "execution": {
          "iopub.execute_input": "2022-08-05T06:52:25.095528Z",
          "iopub.status.busy": "2022-08-05T06:52:25.095054Z",
          "iopub.status.idle": "2022-08-05T06:52:25.428248Z",
          "shell.execute_reply": "2022-08-05T06:52:25.427325Z"
        },
        "papermill": {
          "duration": 0.355671,
          "end_time": "2022-08-05T06:52:25.430346",
          "exception": false,
          "start_time": "2022-08-05T06:52:25.074675",
          "status": "completed"
        },
        "tags": [],
        "id": "14402853",
        "outputId": "e534d0f4-cea3-45f5-8db9-9bb7503f8655",
        "colab": {
          "base_uri": "https://localhost:8080/",
          "height": 407
        }
      },
      "outputs": [
        {
          "output_type": "display_data",
          "data": {
            "text/plain": [
              "<Figure size 800x400 with 1 Axes>"
            ],
            "image/png": "[encoded data removed]"
          },
          "metadata": {}
        }
      ],
      "source": [
        "# Timestamp of train and test data\n",
        "plt.figure(figsize=(8, 4))\n",
        "plt.hist(train_df['TransactionDT'], label='Train')\n",
        "plt.hist(test_df['TransactionDT'], label='Test')\n",
        "plt.ylabel('Count')\n",
        "plt.title('Transaction Timestamp')\n",
        "plt.legend()\n",
        "plt.tight_layout()\n",
        "plt.show()"
      ]
    },
    {
      "cell_type": "markdown",
      "id": "5e942ecf",
      "metadata": {
        "papermill": {
          "duration": 0.007607,
          "end_time": "2022-08-05T06:52:25.446104",
          "exception": false,
          "start_time": "2022-08-05T06:52:25.438497",
          "status": "completed"
        },
        "tags": [],
        "id": "5e942ecf"
      },
      "source": [
        "We observe that the test data's timestamp comes after the train data's timestamp. As a result, when training our machine learning model, it is crucial to use time-based splitting to generate appropriate training and validation sets. Before proceeding, let's address any missing values in the dataset.\n",
        "A significant number of columns exhibit a high percentage of missing values. To mitigate this issue, we will only include columns with at least 80% available data, allowing for up to 20% of missing values that can be filled or imputed later on."
      ]
    },
    {
      "cell_type": "code",
      "source": [
        "# Missing values check\n",
        "combined_df = pd.concat([train_df.drop(columns=['isFraud', 'TransactionID']), test_df.drop(columns='TransactionID')])\n",
        "print(combined_df.shape)\n",
        "\n",
        "# Dependent variable\n",
        "y = train_df['isFraud']\n",
        "print(y.shape)\n",
        "\n",
        "# Dropping columns with more than 20% missing values \n",
        "mv = combined_df.isnull().sum()/len(combined_df)\n",
        "combined_mv_df = combined_df.drop(columns=mv[mv>0.2].index)\n",
        "del combined_df, train_df, test_df\n",
        "print(combined_mv_df.shape)"
      ],
      "metadata": {
        "colab": {
          "base_uri": "https://localhost:8080/"
        },
        "id": "Wqnc-5CZsjhz",
        "outputId": "747d57ec-5d20-4205-da7b-47c53ab43c7a"
      },
      "id": "Wqnc-5CZsjhz",
      "execution_count": 15,
      "outputs": [
        {
          "output_type": "stream",
          "name": "stdout",
          "text": [
            "(1097231, 432)\n",
            "(590540,)\n",
            "(1097231, 180)\n"
          ]
        }
      ]
    },
    {
      "cell_type": "markdown",
      "id": "fc1a6971",
      "metadata": {
        "papermill": {
          "duration": 0.007754,
          "end_time": "2022-08-05T06:52:33.102042",
          "exception": false,
          "start_time": "2022-08-05T06:52:33.094288",
          "status": "completed"
        },
        "tags": [],
        "id": "fc1a6971"
      },
      "source": [
        "After eliminating features with over 20% missing values, we are left with 180 columns out of the original 432. Additionally, we have removed the 'TransactionID' column, as it does not contribute to the prediction process. Next, let's address the remaining missing values. We will employ the median value for numerical columns, while for categorical columns, we will use the most frequent category to fill in any gaps."
      ]
    },
    {
      "cell_type": "code",
      "source": [
        "# Filtering numerical data\n",
        "num_mv_df = combined_mv_df.select_dtypes(include=np.number)\n",
        "print(num_mv_df.shape)\n",
        "\n",
        "# Filtering categorical data\n",
        "cat_mv_df = combined_mv_df.select_dtypes(exclude=np.number)\n",
        "print(cat_mv_df.shape)\n",
        "del combined_mv_df\n",
        "\n",
        "# Filling missing values by median for numerical columns \n",
        "imp_median = SimpleImputer(missing_values=np.nan, strategy='median')\n",
        "num_df = pd.DataFrame(imp_median.fit_transform(num_mv_df), columns=num_mv_df.columns)\n",
        "del num_mv_df\n",
        "print(num_df.shape)\n",
        "\n",
        "# Filling missing values by most frequent value for categorical columns\n",
        "imp_max = SimpleImputer(missing_values=np.nan, strategy='most_frequent')\n",
        "cat_df = pd.DataFrame(imp_max.fit_transform(cat_mv_df), columns=cat_mv_df.columns)\n",
        "del cat_mv_df\n",
        "print(cat_df.shape)\n",
        "\n",
        "# Concatinating numerical and categorical data\n",
        "combined_df_cleaned = pd.concat([num_df, cat_df], axis=1)\n",
        "del num_df, cat_df\n",
        "\n",
        "# Verifying missing values\n",
        "print(f'Total missing values: {combined_df_cleaned.isnull().sum().sum()}')\n",
        "print(combined_df_cleaned.shape)"
      ],
      "metadata": {
        "colab": {
          "base_uri": "https://localhost:8080/"
        },
        "id": "27JXxUWUsxXc",
        "outputId": "35dd16c5-3d6e-4180-ac73-4e917a06f1fa"
      },
      "id": "27JXxUWUsxXc",
      "execution_count": 17,
      "outputs": [
        {
          "output_type": "stream",
          "name": "stdout",
          "text": [
            "(1097231, 176)\n",
            "(1097231, 4)\n",
            "(1097231, 176)\n",
            "(1097231, 4)\n",
            "Total missing values: 0\n",
            "(1097231, 180)\n"
          ]
        }
      ]
    },
    {
      "cell_type": "markdown",
      "id": "09c16206",
      "metadata": {
        "papermill": {
          "duration": 0.008355,
          "end_time": "2022-08-05T06:53:02.507925",
          "exception": false,
          "start_time": "2022-08-05T06:53:02.499570",
          "status": "completed"
        },
        "tags": [],
        "id": "09c16206"
      },
      "source": [
        "# Data Preprocessing"
      ]
    },
    {
      "cell_type": "code",
      "source": [
        "# One-hot encoding\n",
        "combined_df_encoded = pd.get_dummies(combined_df_cleaned, drop_first=True)\n",
        "print(combined_df_encoded.shape)\n",
        "del combined_df_cleaned"
      ],
      "metadata": {
        "id": "yiPnotTMtAu7",
        "colab": {
          "base_uri": "https://localhost:8080/"
        },
        "outputId": "8260b93e-c92e-487b-8902-4a25d73b4d4d"
      },
      "id": "yiPnotTMtAu7",
      "execution_count": 18,
      "outputs": [
        {
          "output_type": "stream",
          "name": "stdout",
          "text": [
            "(1097231, 245)\n"
          ]
        }
      ]
    },
    {
      "cell_type": "code",
      "source": [
        "# Separating train and test data\n",
        "X = combined_df_encoded.iloc[:len_train_df]\n",
        "print(X.shape)\n",
        "test = combined_df_encoded.iloc[len_train_df:]\n",
        "print(test.shape)\n",
        "del combined_df_encoded"
      ],
      "metadata": {
        "colab": {
          "base_uri": "https://localhost:8080/"
        },
        "id": "aP66MT9QtFIJ",
        "outputId": "07559d54-f680-4d65-86c7-78c9ee759e01"
      },
      "id": "aP66MT9QtFIJ",
      "execution_count": 19,
      "outputs": [
        {
          "output_type": "stream",
          "name": "stdout",
          "text": [
            "(590540, 245)\n",
            "(506691, 245)\n"
          ]
        }
      ]
    },
    {
      "cell_type": "code",
      "source": [
        "# Time-based train validation splitting with 20% data in validation set\n",
        "train = pd.concat([X, y], axis=1)\n",
        "train.sort_values('TransactionDT', inplace=True)\n",
        "X = train.drop(['isFraud'], axis=1)\n",
        "y = train['isFraud']\n",
        "splitting_index = int(0.8*len(X))\n",
        "X_train = X.iloc[:splitting_index].values\n",
        "X_val = X.iloc[splitting_index:].values\n",
        "y_train = y.iloc[:splitting_index].values\n",
        "y_val = y.iloc[splitting_index:].values\n",
        "test = test.values\n",
        "print(X_train.shape, X_val.shape, y_train.shape, y_val.shape)\n",
        "del y, train"
      ],
      "metadata": {
        "colab": {
          "base_uri": "https://localhost:8080/"
        },
        "id": "Bo-pDLn_tH8e",
        "outputId": "622bd2cb-50c2-4bf6-b4c8-963f8536db61"
      },
      "id": "Bo-pDLn_tH8e",
      "execution_count": 20,
      "outputs": [
        {
          "output_type": "stream",
          "name": "stdout",
          "text": [
            "(472432, 245) (118108, 245) (472432,) (118108,)\n"
          ]
        }
      ]
    },
    {
      "cell_type": "code",
      "source": [
        "# Standardization\n",
        "scaler = StandardScaler()\n",
        "X_train_scaled = scaler.fit_transform(X_train)\n",
        "X_val_scaled = scaler.transform(X_val)\n",
        "test_scaled = scaler.transform(test)\n",
        "del X_train, X_val, test\n",
        "\n",
        "# Class imbalance check\n",
        "pd.value_counts(y_train)"
      ],
      "metadata": {
        "colab": {
          "base_uri": "https://localhost:8080/"
        },
        "id": "MY7cNxGJtM6q",
        "outputId": "35dbb73a-8804-4697-f3e8-4074a351a9f8"
      },
      "id": "MY7cNxGJtM6q",
      "execution_count": 21,
      "outputs": [
        {
          "output_type": "execute_result",
          "data": {
            "text/plain": [
              "0    455833\n",
              "1     16599\n",
              "dtype: int64"
            ]
          },
          "metadata": {},
          "execution_count": 21
        }
      ]
    },
    {
      "cell_type": "code",
      "source": [
        "# Applying SMOTE to deal with the class imbalance by oversampling\n",
        "smote = SMOTE()\n",
        "X_train_smote, y_train_smote = smote.fit_resample(X_train_scaled, y_train)\n",
        "print(X_train_smote.shape, y_train_smote.shape)\n",
        "del X_train_scaled, y_train\n",
        "pd.value_counts(y_train_smote)"
      ],
      "metadata": {
        "colab": {
          "base_uri": "https://localhost:8080/"
        },
        "id": "sfen7sGjtSTq",
        "outputId": "5adddda3-174c-4a49-f0e0-295a658a10ed"
      },
      "id": "sfen7sGjtSTq",
      "execution_count": 22,
      "outputs": [
        {
          "output_type": "stream",
          "name": "stdout",
          "text": [
            "(911666, 245) (911666,)\n"
          ]
        },
        {
          "output_type": "execute_result",
          "data": {
            "text/plain": [
              "0    455833\n",
              "1    455833\n",
              "dtype: int64"
            ]
          },
          "metadata": {},
          "execution_count": 22
        }
      ]
    },
    {
      "cell_type": "markdown",
      "id": "dd64a768",
      "metadata": {
        "papermill": {
          "duration": 0.009548,
          "end_time": "2022-08-05T06:53:21.083279",
          "exception": false,
          "start_time": "2022-08-05T06:53:21.073731",
          "status": "completed"
        },
        "tags": [],
        "id": "dd64a768"
      },
      "source": [
        "# ML Modeling"
      ]
    },
    {
      "cell_type": "markdown",
      "source": [
        "## Random Forest Classifier"
      ],
      "metadata": {
        "id": "x0Q7Q-nipWY7"
      },
      "id": "x0Q7Q-nipWY7"
    },
    {
      "cell_type": "code",
      "source": [
        "# Random Forest Classifier\n",
        "rfc = RandomForestClassifier(criterion='entropy', max_features='sqrt', max_samples=0.5, min_samples_split=80)\n",
        "rfc.fit(X_train_smote, y_train_smote)\n",
        "y_predproba = rfc.predict_proba(X_val_scaled)\n",
        "\n",
        "print(f'Validation AUC={roc_auc_score(y_val, y_predproba[:, 1])}')\n",
        "\n",
        "y_pred = rfc.predict(X_val_scaled)\n",
        "\n",
        "print(\"Accuracy:\", accuracy_score(y_val, y_pred))\n",
        "print(\"Classification Report:\\n\", classification_report(y_val, y_pred))"
      ],
      "metadata": {
        "colab": {
          "base_uri": "https://localhost:8080/"
        },
        "id": "f34ZSUtgz7NL",
        "outputId": "8cc6d13d-ac7d-486a-e09c-a53513c1d797"
      },
      "id": "f34ZSUtgz7NL",
      "execution_count": 23,
      "outputs": [
        {
          "output_type": "stream",
          "name": "stdout",
          "text": [
            "Validation AUC=0.8881598541915166\n",
            "Accuracy: 0.9674450502929522\n",
            "Classification Report:\n",
            "               precision    recall  f1-score   support\n",
            "\n",
            "           0       0.98      0.99      0.98    114044\n",
            "           1       0.53      0.44      0.48      4064\n",
            "\n",
            "    accuracy                           0.97    118108\n",
            "   macro avg       0.76      0.71      0.73    118108\n",
            "weighted avg       0.96      0.97      0.97    118108\n",
            "\n"
          ]
        }
      ]
    },
    {
      "cell_type": "markdown",
      "source": [
        "## Logisitc Regression"
      ],
      "metadata": {
        "id": "IPzmkONhpjeu"
      },
      "id": "IPzmkONhpjeu"
    },
    {
      "cell_type": "code",
      "source": [
        "# Logistic Regression Classifier\n",
        "logistic_regression_model = LogisticRegression()\n",
        "logistic_regression_model.fit(X_train_smote, y_train_smote)\n",
        "\n",
        "y_predproba = logistic_regression_model.predict_proba(X_val_scaled)\n",
        "print(f'Validation AUC={roc_auc_score(y_val, y_predproba[:, 1])}')\n",
        "\n",
        "y_pred = logistic_regression_model.predict(X_val_scaled)\n",
        "\n",
        "print(\"Accuracy:\", accuracy_score(y_val, y_pred))\n",
        "print(\"Classification Report:\\n\", classification_report(y_val, y_pred))"
      ],
      "metadata": {
        "colab": {
          "base_uri": "https://localhost:8080/"
        },
        "id": "FXbJ0PU803eU",
        "outputId": "3c9dab04-f102-4dfb-9881-c9ff547fa078"
      },
      "id": "FXbJ0PU803eU",
      "execution_count": null,
      "outputs": [
        {
          "output_type": "stream",
          "name": "stdout",
          "text": [
            "Validation AUC=0.8127943431707944\n",
            "Accuracy: 0.8315783416767363\n",
            "Classification Report:\n",
            "               precision    recall  f1-score   support\n",
            "\n",
            "           0       0.99      0.84      0.91     16954\n",
            "           1       0.09      0.61      0.15       425\n",
            "\n",
            "    accuracy                           0.83     17379\n",
            "   macro avg       0.54      0.73      0.53     17379\n",
            "weighted avg       0.97      0.83      0.89     17379\n",
            "\n"
          ]
        }
      ]
    },
    {
      "cell_type": "markdown",
      "source": [
        "## XGBoost Classifier"
      ],
      "metadata": {
        "id": "ZbrQFPTApj7f"
      },
      "id": "ZbrQFPTApj7f"
    },
    {
      "cell_type": "code",
      "source": [
        "# XGBoost Classifier\n",
        "xgb_model = xgb.XGBClassifier()\n",
        "xgb_model.fit(X_train_smote, y_train_smote)\n",
        "\n",
        "y_predproba = xgb_model.predict_proba(X_val_scaled)\n",
        "print(f'Validation AUC={roc_auc_score(y_val, y_predproba[:, 1])}')\n",
        "\n",
        "y_pred = xgb_model.predict(X_val_scaled)\n",
        "\n",
        "print(\"Accuracy:\", accuracy_score(y_val, y_pred))\n",
        "print(\"Classification Report:\\n\", classification_report(y_val, y_pred))"
      ],
      "metadata": {
        "id": "EHLxwwz_pkJi",
        "colab": {
          "base_uri": "https://localhost:8080/"
        },
        "outputId": "00369f18-0519-426d-8b70-0e42c7548244"
      },
      "id": "EHLxwwz_pkJi",
      "execution_count": null,
      "outputs": [
        {
          "output_type": "stream",
          "name": "stdout",
          "text": [
            "Validation AUC=0.8874980743742584\n",
            "Accuracy: 0.9837735197652339\n",
            "Classification Report:\n",
            "               precision    recall  f1-score   support\n",
            "\n",
            "           0       0.98      1.00      0.99     16954\n",
            "           1       0.89      0.38      0.54       425\n",
            "\n",
            "    accuracy                           0.98     17379\n",
            "   macro avg       0.94      0.69      0.76     17379\n",
            "weighted avg       0.98      0.98      0.98     17379\n",
            "\n"
          ]
        }
      ]
    }
  ],
  "metadata": {
    "kernelspec": {
      "display_name": "Python 3",
      "language": "python",
      "name": "python3"
    },
    "language_info": {
      "codemirror_mode": {
        "name": "ipython",
        "version": 3
      },
      "file_extension": ".py",
      "mimetype": "text/x-python",
      "name": "python",
      "nbconvert_exporter": "python",
      "pygments_lexer": "ipython3",
      "version": "3.7.12"
    },
    "papermill": {
      "default_parameters": {},
      "duration": 573.464968,
      "end_time": "2022-08-05T06:57:39.066370",
      "environment_variables": {},
      "exception": null,
      "input_path": "__notebook__.ipynb",
      "output_path": "__notebook__.ipynb",
      "parameters": {},
      "start_time": "2022-08-05T06:48:05.601402",
      "version": "2.3.4"
    },
    "colab": {
      "provenance": []
    }
  },
  "nbformat": 4,
  "nbformat_minor": 5
}