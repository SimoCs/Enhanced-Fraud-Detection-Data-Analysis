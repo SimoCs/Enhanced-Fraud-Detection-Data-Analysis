{
  "cells": [
    {
      "cell_type": "markdown",
      "id": "7bd8189c",
      "metadata": {
        "papermill": {
          "duration": 0.011184,
          "end_time": "2022-08-05T06:48:13.294471",
          "exception": false,
          "start_time": "2022-08-05T06:48:13.283287",
          "status": "completed"
        },
        "tags": [],
        "id": "7bd8189c"
      },
      "source": [
        "# Enhanced Fraud Detection Data Analysis\n",
        "\n",
        "1. Import necessary libraries\n",
        "2. Acquire and explore dataset\n",
        "3. Clean and preprocess the data\n",
        "4. Engineer new features \n",
        "5. Split the data into training and testing subsets\n",
        "6. Select, implement, and compare various machine learning algorithms\n",
        "7. Train the chosen models and optimize their hyperparameters\n",
        "8. Evaluate the models using appropriate performance metrics"
      ]
    },
    {
      "cell_type": "markdown",
      "id": "9d205877",
      "metadata": {
        "papermill": {
          "duration": 0.010213,
          "end_time": "2022-08-05T06:48:13.315796",
          "exception": false,
          "start_time": "2022-08-05T06:48:13.305583",
          "status": "completed"
        },
        "tags": [],
        "id": "9d205877"
      },
      "source": [
        "# Importing Necessary Libraries"
      ]
    },
    {
      "cell_type": "code",
      "execution_count": 38,
      "id": "e63e958b",
      "metadata": {
        "execution": {
          "iopub.execute_input": "2022-08-05T06:48:13.329628Z",
          "iopub.status.busy": "2022-08-05T06:48:13.328789Z",
          "iopub.status.idle": "2022-08-05T06:48:14.614249Z",
          "shell.execute_reply": "2022-08-05T06:48:14.613099Z"
        },
        "papermill": {
          "duration": 1.295729,
          "end_time": "2022-08-05T06:48:14.617193",
          "exception": false,
          "start_time": "2022-08-05T06:48:13.321464",
          "status": "completed"
        },
        "tags": [],
        "id": "e63e958b"
      },
      "outputs": [],
      "source": [
        "# Data Analysis\n",
        "import pandas as pd\n",
        "import numpy as np\n",
        "\n",
        "# Data Visualization\n",
        "from matplotlib import pyplot as plt\n",
        "import seaborn as sns\n",
        "\n",
        "# Machine Learning\n",
        "from sklearn.impute import SimpleImputer\n",
        "from sklearn.model_selection import train_test_split\n",
        "from sklearn.preprocessing import StandardScaler\n",
        "from imblearn.over_sampling import SMOTE\n",
        "from sklearn.metrics import roc_auc_score\n",
        "from sklearn.ensemble import RandomForestClassifier\n",
        "from sklearn.linear_model import LogisticRegression\n",
        "import xgboost as xgb\n",
        "from sklearn.metrics import roc_auc_score, accuracy_score, classification_report\n",
        "\n",
        "# Warnings\n",
        "import warnings\n",
        "warnings.filterwarnings('ignore')"
      ]
    },
    {
      "cell_type": "markdown",
      "id": "b2745974",
      "metadata": {
        "papermill": {
          "duration": 0.005686,
          "end_time": "2022-08-05T06:48:14.628955",
          "exception": false,
          "start_time": "2022-08-05T06:48:14.623269",
          "status": "completed"
        },
        "tags": [],
        "id": "b2745974"
      },
      "source": [
        "# Data Loading, Understanding, and Cleaning"
      ]
    },
    {
      "cell_type": "markdown",
      "source": [
        "## Loading Train Data"
      ],
      "metadata": {
        "id": "Fami1r6DGw3m"
      },
      "id": "Fami1r6DGw3m"
    },
    {
      "cell_type": "code",
      "execution_count": 39,
      "id": "55c456c8",
      "metadata": {
        "execution": {
          "iopub.execute_input": "2022-08-05T06:48:14.668455Z",
          "iopub.status.busy": "2022-08-05T06:48:14.668199Z",
          "iopub.status.idle": "2022-08-05T06:50:21.431265Z",
          "shell.execute_reply": "2022-08-05T06:50:21.430282Z"
        },
        "papermill": {
          "duration": 126.778745,
          "end_time": "2022-08-05T06:50:21.440306",
          "exception": false,
          "start_time": "2022-08-05T06:48:14.661561",
          "status": "completed"
        },
        "tags": [],
        "colab": {
          "base_uri": "https://localhost:8080/"
        },
        "id": "55c456c8",
        "outputId": "2d73a735-f61f-4b3d-a715-f8558c57d1aa"
      },
      "outputs": [
        {
          "output_type": "execute_result",
          "data": {
            "text/plain": [
              "(898, 394)"
            ]
          },
          "metadata": {},
          "execution_count": 39
        }
      ],
      "source": [
        "# Loading train_transaction data\n",
        "train_transaction = pd.read_csv('train_transaction.csv')\n",
        "train_transaction.shape"
      ]
    },
    {
      "cell_type": "code",
      "execution_count": 40,
      "id": "96c0bb17",
      "metadata": {
        "execution": {
          "iopub.execute_input": "2022-08-05T06:50:21.455268Z",
          "iopub.status.busy": "2022-08-05T06:50:21.454975Z",
          "iopub.status.idle": "2022-08-05T06:50:22.628815Z",
          "shell.execute_reply": "2022-08-05T06:50:22.627668Z"
        },
        "papermill": {
          "duration": 1.183335,
          "end_time": "2022-08-05T06:50:22.631195",
          "exception": false,
          "start_time": "2022-08-05T06:50:21.447860",
          "status": "completed"
        },
        "tags": [],
        "colab": {
          "base_uri": "https://localhost:8080/"
        },
        "id": "96c0bb17",
        "outputId": "46e4dc2a-3974-41fe-d0e2-80284a9fbc21"
      },
      "outputs": [
        {
          "output_type": "execute_result",
          "data": {
            "text/plain": [
              "(16626, 41)"
            ]
          },
          "metadata": {},
          "execution_count": 40
        }
      ],
      "source": [
        "# Loading train_identity data\n",
        "train_identity = pd.read_csv('train_identity.csv')\n",
        "train_identity.shape"
      ]
    },
    {
      "cell_type": "code",
      "source": [
        "train_df = pd.merge(train_transaction, train_identity, how='left')\n",
        "train_df.shape"
      ],
      "metadata": {
        "colab": {
          "base_uri": "https://localhost:8080/"
        },
        "id": "hADzXw6sCFO7",
        "outputId": "82f988e3-1548-49c5-cae3-9561d689ca6a"
      },
      "id": "hADzXw6sCFO7",
      "execution_count": 41,
      "outputs": [
        {
          "output_type": "execute_result",
          "data": {
            "text/plain": [
              "(898, 434)"
            ]
          },
          "metadata": {},
          "execution_count": 41
        }
      ]
    },
    {
      "cell_type": "code",
      "source": [
        "del train_transaction, train_identity"
      ],
      "metadata": {
        "id": "FU6MX-9BqTji"
      },
      "id": "FU6MX-9BqTji",
      "execution_count": 42,
      "outputs": []
    },
    {
      "cell_type": "code",
      "source": [
        "len_train_df = len(train_df)"
      ],
      "metadata": {
        "id": "ioEQaCZqyt8q"
      },
      "id": "ioEQaCZqyt8q",
      "execution_count": 43,
      "outputs": []
    },
    {
      "cell_type": "markdown",
      "source": [
        "## Loading Test Data"
      ],
      "metadata": {
        "id": "aZ1SV0QWG6--"
      },
      "id": "aZ1SV0QWG6--"
    },
    {
      "cell_type": "code",
      "source": [
        "# Loading test data\n",
        "test_transaction = pd.read_csv('test_transaction.csv')\n",
        "test_transaction.shape"
      ],
      "metadata": {
        "colab": {
          "base_uri": "https://localhost:8080/"
        },
        "id": "cGVdlMduqeR0",
        "outputId": "a9ea99c0-2202-4fa7-eaa4-a23b85b3fcad"
      },
      "id": "cGVdlMduqeR0",
      "execution_count": 44,
      "outputs": [
        {
          "output_type": "execute_result",
          "data": {
            "text/plain": [
              "(2747, 393)"
            ]
          },
          "metadata": {},
          "execution_count": 44
        }
      ]
    },
    {
      "cell_type": "code",
      "source": [
        "test_identity = pd.read_csv('test_identity.csv')\n",
        "test_identity.shape"
      ],
      "metadata": {
        "colab": {
          "base_uri": "https://localhost:8080/"
        },
        "id": "1eRD6Oobqgyd",
        "outputId": "7e2ef786-f218-45b1-8fa4-6ec2e75b9cd9"
      },
      "id": "1eRD6Oobqgyd",
      "execution_count": 45,
      "outputs": [
        {
          "output_type": "execute_result",
          "data": {
            "text/plain": [
              "(28768, 41)"
            ]
          },
          "metadata": {},
          "execution_count": 45
        }
      ]
    },
    {
      "cell_type": "code",
      "execution_count": 46,
      "id": "e2c61fed",
      "metadata": {
        "execution": {
          "iopub.execute_input": "2022-08-05T06:50:24.859740Z",
          "iopub.status.busy": "2022-08-05T06:50:24.858124Z",
          "iopub.status.idle": "2022-08-05T06:52:16.679149Z",
          "shell.execute_reply": "2022-08-05T06:52:16.678143Z"
        },
        "papermill": {
          "duration": 111.830892,
          "end_time": "2022-08-05T06:52:16.681288",
          "exception": false,
          "start_time": "2022-08-05T06:50:24.850396",
          "status": "completed"
        },
        "tags": [],
        "id": "e2c61fed",
        "outputId": "8e21f93f-29ee-4a8c-b25b-e3113e63f65f",
        "colab": {
          "base_uri": "https://localhost:8080/"
        }
      },
      "outputs": [
        {
          "output_type": "execute_result",
          "data": {
            "text/plain": [
              "(2747, 433)"
            ]
          },
          "metadata": {},
          "execution_count": 46
        }
      ],
      "source": [
        "test_df = pd.merge(test_transaction, test_identity, how='left')\n",
        "test_df.columns = train_df.drop('isFraud', axis=1).columns\n",
        "test_df.shape"
      ]
    },
    {
      "cell_type": "code",
      "source": [
        "del test_transaction, test_identity"
      ],
      "metadata": {
        "id": "KzI9uAG0qdYE"
      },
      "id": "KzI9uAG0qdYE",
      "execution_count": 47,
      "outputs": []
    },
    {
      "cell_type": "markdown",
      "source": [
        "# Data Exploration"
      ],
      "metadata": {
        "id": "ve7WAv3Sa6zO"
      },
      "id": "ve7WAv3Sa6zO"
    },
    {
      "cell_type": "code",
      "source": [
        "plt.hist(train_df['id_01'], bins=77);\n",
        "plt.title('Distribution of id_01 variable');"
      ],
      "metadata": {
        "id": "QVrYzX-aa7Cn",
        "colab": {
          "base_uri": "https://localhost:8080/",
          "height": 452
        },
        "outputId": "8367f2c8-a10f-4f6f-a88a-e3825f6c62a5"
      },
      "id": "QVrYzX-aa7Cn",
      "execution_count": 48,
      "outputs": [
        {
          "output_type": "display_data",
          "data": {
            "text/plain": [
              "<Figure size 640x480 with 1 Axes>"
            ],
            "image/png": "[encoded data removed]"
          },
          "metadata": {}
        }
      ]
    },
    {
      "cell_type": "code",
      "source": [
        "plt.hist(train_df['id_07']);\n",
        "plt.title('Distribution of id_07 variable');"
      ],
      "metadata": {
        "id": "J6pfxcK4bDV6",
        "colab": {
          "base_uri": "https://localhost:8080/",
          "height": 452
        },
        "outputId": "b556cd3f-0905-4172-8136-3ac2c9e31e4e"
      },
      "id": "J6pfxcK4bDV6",
      "execution_count": 49,
      "outputs": [
        {
          "output_type": "display_data",
          "data": {
            "text/plain": [
              "<Figure size 640x480 with 1 Axes>"
            ],
            "image/png": "[encoded data removed]"
          },
          "metadata": {}
        }
      ]
    },
    {
      "cell_type": "code",
      "source": [
        "card_cols = [c for c in train_df.columns if 'card' in c]"
      ],
      "metadata": {
        "id": "b902eGIEd0p6"
      },
      "id": "b902eGIEd0p6",
      "execution_count": 50,
      "outputs": []
    },
    {
      "cell_type": "code",
      "source": [
        "color_pal = [x['color'] for x in plt.rcParams['axes.prop_cycle']]"
      ],
      "metadata": {
        "id": "_tSon14Bd-Xr"
      },
      "id": "_tSon14Bd-Xr",
      "execution_count": 51,
      "outputs": []
    },
    {
      "cell_type": "code",
      "source": [
        "color_idx = 0\n",
        "for c in card_cols:\n",
        "    if train_df[c].dtype in ['float64','int64']:\n",
        "        train_df[c].plot(kind='hist',\n",
        "                                      title=c,\n",
        "                                      bins=50,\n",
        "                                      figsize=(15, 2),\n",
        "                                      color=color_pal[color_idx])\n",
        "    color_idx += 1\n",
        "    plt.show()"
      ],
      "metadata": {
        "colab": {
          "base_uri": "https://localhost:8080/",
          "height": 771
        },
        "id": "nmP90CfYbG2I",
        "outputId": "e24ece51-9bfb-430b-e18c-e978813a7eca"
      },
      "id": "nmP90CfYbG2I",
      "execution_count": 52,
      "outputs": [
        {
          "output_type": "display_data",
          "data": {
            "text/plain": [
              "<Figure size 1500x200 with 1 Axes>"
            ],
            "image/png": "[encoded data removed]"
          },
          "metadata": {}
        },
        {
          "output_type": "display_data",
          "data": {
            "text/plain": [
              "<Figure size 1500x200 with 1 Axes>"
            ],
            "image/png": "[encoded data removed]"
          },
          "metadata": {}
        },
        {
          "output_type": "display_data",
          "data": {
            "text/plain": [
              "<Figure size 1500x200 with 1 Axes>"
            ],
            "image/png": "[encoded data removed]"
          },
          "metadata": {}
        },
        {
          "output_type": "display_data",
          "data": {
            "text/plain": [
              "<Figure size 1500x200 with 1 Axes>"
            ],
            "image/png": "[encoded data removed]"
          },
          "metadata": {}
        }
      ]
    },
    {
      "cell_type": "markdown",
      "source": [
        "# Data Cleaning"
      ],
      "metadata": {
        "id": "0u85Vflrnlc0"
      },
      "id": "0u85Vflrnlc0"
    },
    {
      "cell_type": "code",
      "execution_count": 53,
      "id": "1d70ec09",
      "metadata": {
        "execution": {
          "iopub.execute_input": "2022-08-05T06:52:16.725188Z",
          "iopub.status.busy": "2022-08-05T06:52:16.724930Z",
          "iopub.status.idle": "2022-08-05T06:52:24.850873Z",
          "shell.execute_reply": "2022-08-05T06:52:24.849823Z"
        },
        "papermill": {
          "duration": 8.136417,
          "end_time": "2022-08-05T06:52:24.853070",
          "exception": false,
          "start_time": "2022-08-05T06:52:16.716653",
          "status": "completed"
        },
        "tags": [],
        "id": "1d70ec09",
        "outputId": "9434ab30-e0b5-4065-ee58-7e84da6b1e1f",
        "colab": {
          "base_uri": "https://localhost:8080/"
        }
      },
      "outputs": [
        {
          "output_type": "execute_result",
          "data": {
            "text/plain": [
              "0"
            ]
          },
          "metadata": {},
          "execution_count": 53
        }
      ],
      "source": [
        "# Duplicates check in train data\n",
        "train_df.duplicated().sum()"
      ]
    },
    {
      "cell_type": "markdown",
      "id": "9a7b53eb",
      "metadata": {
        "papermill": {
          "duration": 0.007232,
          "end_time": "2022-08-05T06:52:24.868019",
          "exception": false,
          "start_time": "2022-08-05T06:52:24.860787",
          "status": "completed"
        },
        "tags": [],
        "id": "9a7b53eb"
      },
      "source": [
        "This dataset has 434 columns, with the dependent variable being 'isFraud'. The dataset is split into two parts: the training data, which contains 590,540 samples, and the test data, which includes 506,691 records. We have verified that there are no duplicate entries in the dataset. Next, let's explore the distribution of the dependent variable, 'isFraud', to understand its characteristics better."
      ]
    },
    {
      "cell_type": "code",
      "execution_count": 54,
      "id": "ef3f20c4",
      "metadata": {
        "execution": {
          "iopub.execute_input": "2022-08-05T06:52:24.883768Z",
          "iopub.status.busy": "2022-08-05T06:52:24.883475Z",
          "iopub.status.idle": "2022-08-05T06:52:25.013421Z",
          "shell.execute_reply": "2022-08-05T06:52:25.012335Z"
        },
        "papermill": {
          "duration": 0.141295,
          "end_time": "2022-08-05T06:52:25.016605",
          "exception": false,
          "start_time": "2022-08-05T06:52:24.875310",
          "status": "completed"
        },
        "tags": [],
        "id": "ef3f20c4",
        "outputId": "e8368204-6ca5-47d1-e3dd-b8cd4d5f5629",
        "colab": {
          "base_uri": "https://localhost:8080/",
          "height": 406
        }
      },
      "outputs": [
        {
          "output_type": "display_data",
          "data": {
            "text/plain": [
              "<Figure size 640x480 with 1 Axes>"
            ],
            "image/png": "[encoded data removed]"
          },
          "metadata": {}
        }
      ],
      "source": [
        "# Class imbalance check\n",
        "plt.pie(train_df.isFraud.value_counts(), labels=['Not Fraud', 'Fraud'], autopct='%0.1f%%')\n",
        "plt.axis('equal')\n",
        "plt.show()"
      ]
    },
    {
      "cell_type": "markdown",
      "id": "94783764",
      "metadata": {
        "papermill": {
          "duration": 0.019407,
          "end_time": "2022-08-05T06:52:25.055735",
          "exception": false,
          "start_time": "2022-08-05T06:52:25.036328",
          "status": "completed"
        },
        "tags": [],
        "id": "94783764"
      },
      "source": [
        "As anticipated, this dataset presents a class imbalance issue. To address this, we will employ the Synthetic Minority Over-sampling Technique (SMOTE) in subsequent steps. But first, let's examine the distribution of the 'timestamp' column to gain further insights into the data."
      ]
    },
    {
      "cell_type": "code",
      "execution_count": 55,
      "id": "14402853",
      "metadata": {
        "execution": {
          "iopub.execute_input": "2022-08-05T06:52:25.095528Z",
          "iopub.status.busy": "2022-08-05T06:52:25.095054Z",
          "iopub.status.idle": "2022-08-05T06:52:25.428248Z",
          "shell.execute_reply": "2022-08-05T06:52:25.427325Z"
        },
        "papermill": {
          "duration": 0.355671,
          "end_time": "2022-08-05T06:52:25.430346",
          "exception": false,
          "start_time": "2022-08-05T06:52:25.074675",
          "status": "completed"
        },
        "tags": [],
        "id": "14402853",
        "outputId": "44afc77a-93ee-4578-f1bc-3ab2ce4ece6e",
        "colab": {
          "base_uri": "https://localhost:8080/",
          "height": 407
        }
      },
      "outputs": [
        {
          "output_type": "display_data",
          "data": {
            "text/plain": [
              "<Figure size 800x400 with 1 Axes>"
            ],
            "image/png": "[encoded data removed]"
          },
          "metadata": {}
        }
      ],
      "source": [
        "# Timestamp of train and test data\n",
        "plt.figure(figsize=(8, 4))\n",
        "plt.hist(train_df['TransactionDT'], label='Train')\n",
        "plt.hist(test_df['TransactionDT'], label='Test')\n",
        "plt.ylabel('Count')\n",
        "plt.title('Transaction Timestamp')\n",
        "plt.legend()\n",
        "plt.tight_layout()\n",
        "plt.show()"
      ]
    },
    {
      "cell_type": "markdown",
      "id": "5e942ecf",
      "metadata": {
        "papermill": {
          "duration": 0.007607,
          "end_time": "2022-08-05T06:52:25.446104",
          "exception": false,
          "start_time": "2022-08-05T06:52:25.438497",
          "status": "completed"
        },
        "tags": [],
        "id": "5e942ecf"
      },
      "source": [
        "We observe that the test data's timestamp comes after the train data's timestamp. As a result, when training our machine learning model, it is crucial to use time-based splitting to generate appropriate training and validation sets. Before proceeding, let's address any missing values in the dataset.\n",
        "A significant number of columns exhibit a high percentage of missing values. To mitigate this issue, we will only include columns with at least 80% available data, allowing for up to 20% of missing values that can be filled or imputed later on."
      ]
    },
    {
      "cell_type": "code",
      "source": [
        "# Missing values check\n",
        "combined_df = pd.concat([train_df.drop(columns=['isFraud', 'TransactionID']), test_df.drop(columns='TransactionID')])\n",
        "print(combined_df.shape)\n",
        "\n",
        "# Dependent variable\n",
        "y = train_df['isFraud']\n",
        "print(y.shape)\n",
        "\n",
        "# Dropping columns with more than 20% missing values \n",
        "mv = combined_df.isnull().sum()/len(combined_df)\n",
        "combined_mv_df = combined_df.drop(columns=mv[mv>0.2].index)\n",
        "del combined_df, train_df, test_df\n",
        "print(combined_mv_df.shape)"
      ],
      "metadata": {
        "colab": {
          "base_uri": "https://localhost:8080/"
        },
        "id": "Wqnc-5CZsjhz",
        "outputId": "6a395f38-8123-4998-f78d-b61c25d58b0d"
      },
      "id": "Wqnc-5CZsjhz",
      "execution_count": 56,
      "outputs": [
        {
          "output_type": "stream",
          "name": "stdout",
          "text": [
            "(3645, 432)\n",
            "(898,)\n",
            "(3645, 180)\n"
          ]
        }
      ]
    },
    {
      "cell_type": "markdown",
      "id": "fc1a6971",
      "metadata": {
        "papermill": {
          "duration": 0.007754,
          "end_time": "2022-08-05T06:52:33.102042",
          "exception": false,
          "start_time": "2022-08-05T06:52:33.094288",
          "status": "completed"
        },
        "tags": [],
        "id": "fc1a6971"
      },
      "source": [
        "After eliminating features with over 20% missing values, we are left with 180 columns out of the original 432. Additionally, we have removed the 'TransactionID' column, as it does not contribute to the prediction process. Next, let's address the remaining missing values. We will employ the median value for numerical columns, while for categorical columns, we will use the most frequent category to fill in any gaps."
      ]
    },
    {
      "cell_type": "code",
      "source": [
        "# Filtering numerical data\n",
        "num_mv_df = combined_mv_df.select_dtypes(include=np.number)\n",
        "print(num_mv_df.shape)\n",
        "\n",
        "# Filtering categorical data\n",
        "cat_mv_df = combined_mv_df.select_dtypes(exclude=np.number)\n",
        "print(cat_mv_df.shape)\n",
        "del combined_mv_df\n",
        "\n",
        "# Filling missing values by median for numerical columns \n",
        "imp_median = SimpleImputer(missing_values=np.nan, strategy='median')\n",
        "num_df = pd.DataFrame(imp_median.fit_transform(num_mv_df), columns=num_mv_df.columns)\n",
        "del num_mv_df\n",
        "print(num_df.shape)\n",
        "\n",
        "# Filling missing values by most frequent value for categorical columns\n",
        "imp_max = SimpleImputer(missing_values=np.nan, strategy='most_frequent')\n",
        "cat_df = pd.DataFrame(imp_max.fit_transform(cat_mv_df), columns=cat_mv_df.columns)\n",
        "del cat_mv_df\n",
        "print(cat_df.shape)\n",
        "\n",
        "# Concatinating numerical and categorical data\n",
        "combined_df_cleaned = pd.concat([num_df, cat_df], axis=1)\n",
        "del num_df, cat_df\n",
        "\n",
        "# Verifying missing values\n",
        "print(f'Total missing values: {combined_df_cleaned.isnull().sum().sum()}')\n",
        "print(combined_df_cleaned.shape)"
      ],
      "metadata": {
        "colab": {
          "base_uri": "https://localhost:8080/"
        },
        "id": "27JXxUWUsxXc",
        "outputId": "cedf9fed-7e3a-44fa-8ef0-227bd200c3be"
      },
      "id": "27JXxUWUsxXc",
      "execution_count": 57,
      "outputs": [
        {
          "output_type": "stream",
          "name": "stdout",
          "text": [
            "(3645, 176)\n",
            "(3645, 4)\n",
            "(3645, 176)\n",
            "(3645, 4)\n",
            "Total missing values: 0\n",
            "(3645, 180)\n"
          ]
        }
      ]
    },
    {
      "cell_type": "markdown",
      "id": "09c16206",
      "metadata": {
        "papermill": {
          "duration": 0.008355,
          "end_time": "2022-08-05T06:53:02.507925",
          "exception": false,
          "start_time": "2022-08-05T06:53:02.499570",
          "status": "completed"
        },
        "tags": [],
        "id": "09c16206"
      },
      "source": [
        "# Data Preprocessing"
      ]
    },
    {
      "cell_type": "code",
      "source": [
        "# One-hot encoding\n",
        "combined_df_encoded = pd.get_dummies(combined_df_cleaned, drop_first=True)\n",
        "print(combined_df_encoded.shape)\n",
        "del combined_df_cleaned"
      ],
      "metadata": {
        "id": "yiPnotTMtAu7",
        "colab": {
          "base_uri": "https://localhost:8080/"
        },
        "outputId": "23f35ef1-fb9e-42c8-94f2-3818086e56d8"
      },
      "id": "yiPnotTMtAu7",
      "execution_count": 58,
      "outputs": [
        {
          "output_type": "stream",
          "name": "stdout",
          "text": [
            "(3645, 232)\n"
          ]
        }
      ]
    },
    {
      "cell_type": "code",
      "source": [
        "# Separating train and test data\n",
        "X = combined_df_encoded.iloc[:len_train_df]\n",
        "print(X.shape)\n",
        "test = combined_df_encoded.iloc[len_train_df:]\n",
        "print(test.shape)\n",
        "del combined_df_encoded"
      ],
      "metadata": {
        "colab": {
          "base_uri": "https://localhost:8080/"
        },
        "id": "aP66MT9QtFIJ",
        "outputId": "db5b8ff5-945c-4fb9-e9d5-63838a15602f"
      },
      "id": "aP66MT9QtFIJ",
      "execution_count": 59,
      "outputs": [
        {
          "output_type": "stream",
          "name": "stdout",
          "text": [
            "(898, 232)\n",
            "(2747, 232)\n"
          ]
        }
      ]
    },
    {
      "cell_type": "code",
      "source": [
        "# Time-based train validation splitting with 20% data in validation set\n",
        "train = pd.concat([X, y], axis=1)\n",
        "train.sort_values('TransactionDT', inplace=True)\n",
        "X = train.drop(['isFraud'], axis=1)\n",
        "y = train['isFraud']\n",
        "splitting_index = int(0.8*len(X))\n",
        "X_train = X.iloc[:splitting_index].values\n",
        "X_val = X.iloc[splitting_index:].values\n",
        "y_train = y.iloc[:splitting_index].values\n",
        "y_val = y.iloc[splitting_index:].values\n",
        "test = test.values\n",
        "print(X_train.shape, X_val.shape, y_train.shape, y_val.shape)\n",
        "del y, train"
      ],
      "metadata": {
        "colab": {
          "base_uri": "https://localhost:8080/"
        },
        "id": "Bo-pDLn_tH8e",
        "outputId": "55b6f4d3-82b1-4b86-95c5-85d499859e72"
      },
      "id": "Bo-pDLn_tH8e",
      "execution_count": 60,
      "outputs": [
        {
          "output_type": "stream",
          "name": "stdout",
          "text": [
            "(718, 232) (180, 232) (718,) (180,)\n"
          ]
        }
      ]
    },
    {
      "cell_type": "code",
      "source": [
        "# Standardization\n",
        "scaler = StandardScaler()\n",
        "X_train_scaled = scaler.fit_transform(X_train)\n",
        "X_val_scaled = scaler.transform(X_val)\n",
        "test_scaled = scaler.transform(test)\n",
        "del X_train, X_val, test\n",
        "\n",
        "# Class imbalance check\n",
        "pd.value_counts(y_train)"
      ],
      "metadata": {
        "colab": {
          "base_uri": "https://localhost:8080/"
        },
        "id": "MY7cNxGJtM6q",
        "outputId": "0bba430e-c2e1-4a8f-b78f-1da891019af6"
      },
      "id": "MY7cNxGJtM6q",
      "execution_count": 61,
      "outputs": [
        {
          "output_type": "execute_result",
          "data": {
            "text/plain": [
              "0    709\n",
              "1      9\n",
              "dtype: int64"
            ]
          },
          "metadata": {},
          "execution_count": 61
        }
      ]
    },
    {
      "cell_type": "markdown",
      "source": [
        "# Pre SMOTE"
      ],
      "metadata": {
        "id": "FNcYuxozZuyf"
      },
      "id": "FNcYuxozZuyf"
    },
    {
      "cell_type": "markdown",
      "source": [
        "## Random Forest Classifier"
      ],
      "metadata": {
        "id": "kqKQvFMlZsc3"
      },
      "id": "kqKQvFMlZsc3"
    },
    {
      "cell_type": "code",
      "source": [
        "# Random Forest Classifier\n",
        "rfc = RandomForestClassifier(criterion='entropy', max_features='sqrt', max_samples=0.5, min_samples_split=80)\n",
        "rfc.fit(X_train_scaled, y_train)\n",
        "y_predproba = rfc.predict_proba(X_val_scaled)\n",
        "\n",
        "print(f'Validation AUC={roc_auc_score(y_val, y_predproba[:, 1])}')\n",
        "\n",
        "y_pred = rfc.predict(X_val_scaled)\n",
        "\n",
        "print(\"Accuracy:\", accuracy_score(y_val, y_pred))\n",
        "print(\"Classification Report:\\n\", classification_report(y_val, y_pred))"
      ],
      "metadata": {
        "colab": {
          "base_uri": "https://localhost:8080/"
        },
        "outputId": "998e9024-e958-467f-a2f6-e1cd3c2dc310",
        "id": "VvdS5AnqZsc3"
      },
      "execution_count": 63,
      "outputs": [
        {
          "output_type": "stream",
          "name": "stdout",
          "text": [
            "Validation AUC=0.7268571428571429\n",
            "Accuracy: 0.9722222222222222\n",
            "Classification Report:\n",
            "               precision    recall  f1-score   support\n",
            "\n",
            "           0       0.97      1.00      0.99       175\n",
            "           1       0.00      0.00      0.00         5\n",
            "\n",
            "    accuracy                           0.97       180\n",
            "   macro avg       0.49      0.50      0.49       180\n",
            "weighted avg       0.95      0.97      0.96       180\n",
            "\n"
          ]
        }
      ],
      "id": "VvdS5AnqZsc3"
    },
    {
      "cell_type": "markdown",
      "source": [
        "## Logisitc Regression"
      ],
      "metadata": {
        "id": "pgd35bhEZ2Qt"
      },
      "id": "pgd35bhEZ2Qt"
    },
    {
      "cell_type": "code",
      "source": [
        "# Logistic Regression Classifier\n",
        "logistic_regression_model = LogisticRegression()\n",
        "logistic_regression_model.fit(X_train_scaled, y_train)\n",
        "\n",
        "y_predproba = logistic_regression_model.predict_proba(X_val_scaled)\n",
        "print(f'Validation AUC={roc_auc_score(y_val, y_predproba[:, 1])}')\n",
        "\n",
        "y_pred = logistic_regression_model.predict(X_val_scaled)\n",
        "\n",
        "print(\"Accuracy:\", accuracy_score(y_val, y_pred))\n",
        "print(\"Classification Report:\\n\", classification_report(y_val, y_pred))"
      ],
      "metadata": {
        "colab": {
          "base_uri": "https://localhost:8080/"
        },
        "outputId": "a2f5fc9c-1690-4494-aa0f-fe8d7b471eae",
        "id": "odJBRIq9Z2Qz"
      },
      "execution_count": 64,
      "outputs": [
        {
          "output_type": "stream",
          "name": "stdout",
          "text": [
            "Validation AUC=0.616\n",
            "Accuracy: 0.9722222222222222\n",
            "Classification Report:\n",
            "               precision    recall  f1-score   support\n",
            "\n",
            "           0       0.97      1.00      0.99       175\n",
            "           1       0.00      0.00      0.00         5\n",
            "\n",
            "    accuracy                           0.97       180\n",
            "   macro avg       0.49      0.50      0.49       180\n",
            "weighted avg       0.95      0.97      0.96       180\n",
            "\n"
          ]
        }
      ],
      "id": "odJBRIq9Z2Qz"
    },
    {
      "cell_type": "markdown",
      "source": [
        "## XGBoost Classifier"
      ],
      "metadata": {
        "id": "agBpYqJjZ_wL"
      },
      "id": "agBpYqJjZ_wL"
    },
    {
      "cell_type": "code",
      "source": [
        "# XGBoost Classifier\n",
        "xgb_model = xgb.XGBClassifier()\n",
        "xgb_model.fit(X_train_scaled, y_train)\n",
        "\n",
        "y_predproba = xgb_model.predict_proba(X_val_scaled)\n",
        "print(f'Validation AUC={roc_auc_score(y_val, y_predproba[:, 1])}')\n",
        "\n",
        "y_pred = xgb_model.predict(X_val_scaled)\n",
        "\n",
        "print(\"Accuracy:\", accuracy_score(y_val, y_pred))\n",
        "print(\"Classification Report:\\n\", classification_report(y_val, y_pred))"
      ],
      "metadata": {
        "id": "PtQ_5MKaZ_wL",
        "colab": {
          "base_uri": "https://localhost:8080/"
        },
        "outputId": "a782c678-0feb-4ef3-cfb3-e52c291cd7bd"
      },
      "execution_count": 65,
      "outputs": [
        {
          "output_type": "stream",
          "name": "stdout",
          "text": [
            "Validation AUC=0.6182857142857143\n",
            "Accuracy: 0.9722222222222222\n",
            "Classification Report:\n",
            "               precision    recall  f1-score   support\n",
            "\n",
            "           0       0.97      1.00      0.99       175\n",
            "           1       0.00      0.00      0.00         5\n",
            "\n",
            "    accuracy                           0.97       180\n",
            "   macro avg       0.49      0.50      0.49       180\n",
            "weighted avg       0.95      0.97      0.96       180\n",
            "\n"
          ]
        }
      ],
      "id": "PtQ_5MKaZ_wL"
    },
    {
      "cell_type": "markdown",
      "source": [
        "# Post SMOTE"
      ],
      "metadata": {
        "id": "fOQWCbXuZiNB"
      },
      "id": "fOQWCbXuZiNB"
    },
    {
      "cell_type": "code",
      "source": [
        "# Applying SMOTE to deal with the class imbalance by oversampling\n",
        "smote = SMOTE()\n",
        "X_train_smote, y_train_smote = smote.fit_resample(X_train_scaled, y_train)\n",
        "print(X_train_smote.shape, y_train_smote.shape)\n",
        "del X_train_scaled, y_train\n",
        "pd.value_counts(y_train_smote)"
      ],
      "metadata": {
        "colab": {
          "base_uri": "https://localhost:8080/"
        },
        "id": "sfen7sGjtSTq",
        "outputId": "f347a159-06aa-4ead-91df-90ad44bc4a88"
      },
      "id": "sfen7sGjtSTq",
      "execution_count": null,
      "outputs": [
        {
          "output_type": "stream",
          "name": "stdout",
          "text": [
            "(6060, 236) (6060,)\n"
          ]
        },
        {
          "output_type": "execute_result",
          "data": {
            "text/plain": [
              "0    3030\n",
              "1    3030\n",
              "dtype: int64"
            ]
          },
          "metadata": {},
          "execution_count": 27
        }
      ]
    },
    {
      "cell_type": "markdown",
      "id": "dd64a768",
      "metadata": {
        "papermill": {
          "duration": 0.009548,
          "end_time": "2022-08-05T06:53:21.083279",
          "exception": false,
          "start_time": "2022-08-05T06:53:21.073731",
          "status": "completed"
        },
        "tags": [],
        "id": "dd64a768"
      },
      "source": [
        "# ML Modeling"
      ]
    },
    {
      "cell_type": "markdown",
      "source": [
        "## Random Forest Classifier"
      ],
      "metadata": {
        "id": "x0Q7Q-nipWY7"
      },
      "id": "x0Q7Q-nipWY7"
    },
    {
      "cell_type": "code",
      "source": [
        "# Random Forest Classifier\n",
        "rfc = RandomForestClassifier(criterion='entropy', max_features='sqrt', max_samples=0.5, min_samples_split=80)\n",
        "rfc.fit(X_train_smote, y_train_smote)\n",
        "y_predproba = rfc.predict_proba(X_val_scaled)\n",
        "\n",
        "print(f'Validation AUC={roc_auc_score(y_val, y_predproba[:, 1])}')\n",
        "\n",
        "y_pred = rfc.predict(X_val_scaled)\n",
        "\n",
        "print(\"Accuracy:\", accuracy_score(y_val, y_pred))\n",
        "print(\"Classification Report:\\n\", classification_report(y_val, y_pred))"
      ],
      "metadata": {
        "colab": {
          "base_uri": "https://localhost:8080/"
        },
        "id": "f34ZSUtgz7NL",
        "outputId": "50f29331-f562-4b66-ffb8-0a082b93dcd8"
      },
      "id": "f34ZSUtgz7NL",
      "execution_count": null,
      "outputs": [
        {
          "output_type": "stream",
          "name": "stdout",
          "text": [
            "Validation AUC=0.8182186234817814\n",
            "Accuracy: 0.9896507115135834\n",
            "Classification Report:\n",
            "               precision    recall  f1-score   support\n",
            "\n",
            "           0       0.99      1.00      0.99       760\n",
            "           1       1.00      0.38      0.56        13\n",
            "\n",
            "    accuracy                           0.99       773\n",
            "   macro avg       0.99      0.69      0.78       773\n",
            "weighted avg       0.99      0.99      0.99       773\n",
            "\n"
          ]
        }
      ]
    },
    {
      "cell_type": "markdown",
      "source": [
        "## Logisitc Regression"
      ],
      "metadata": {
        "id": "IPzmkONhpjeu"
      },
      "id": "IPzmkONhpjeu"
    },
    {
      "cell_type": "code",
      "source": [
        "# Logistic Regression Classifier\n",
        "logistic_regression_model = LogisticRegression()\n",
        "logistic_regression_model.fit(X_train_smote, y_train_smote)\n",
        "\n",
        "y_predproba = logistic_regression_model.predict_proba(X_val_scaled)\n",
        "print(f'Validation AUC={roc_auc_score(y_val, y_predproba[:, 1])}')\n",
        "\n",
        "y_pred = logistic_regression_model.predict(X_val_scaled)\n",
        "\n",
        "print(\"Accuracy:\", accuracy_score(y_val, y_pred))\n",
        "print(\"Classification Report:\\n\", classification_report(y_val, y_pred))"
      ],
      "metadata": {
        "colab": {
          "base_uri": "https://localhost:8080/"
        },
        "id": "FXbJ0PU803eU",
        "outputId": "3b42b336-28e3-44d7-c166-727b137456ef"
      },
      "id": "FXbJ0PU803eU",
      "execution_count": null,
      "outputs": [
        {
          "output_type": "stream",
          "name": "stdout",
          "text": [
            "Validation AUC=0.7030364372469636\n",
            "Accuracy: 0.7852522639068564\n",
            "Classification Report:\n",
            "               precision    recall  f1-score   support\n",
            "\n",
            "           0       0.99      0.79      0.88       760\n",
            "           1       0.04      0.46      0.07        13\n",
            "\n",
            "    accuracy                           0.79       773\n",
            "   macro avg       0.51      0.63      0.47       773\n",
            "weighted avg       0.97      0.79      0.87       773\n",
            "\n"
          ]
        }
      ]
    },
    {
      "cell_type": "markdown",
      "source": [
        "## XGBoost Classifier"
      ],
      "metadata": {
        "id": "ZbrQFPTApj7f"
      },
      "id": "ZbrQFPTApj7f"
    },
    {
      "cell_type": "code",
      "source": [
        "# XGBoost Classifier\n",
        "xgb_model = xgb.XGBClassifier()\n",
        "xgb_model.fit(X_train_smote, y_train_smote)\n",
        "\n",
        "y_predproba = xgb_model.predict_proba(X_val_scaled)\n",
        "print(f'Validation AUC={roc_auc_score(y_val, y_predproba[:, 1])}')\n",
        "\n",
        "y_pred = xgb_model.predict(X_val_scaled)\n",
        "\n",
        "print(\"Accuracy:\", accuracy_score(y_val, y_pred))\n",
        "print(\"Classification Report:\\n\", classification_report(y_val, y_pred))"
      ],
      "metadata": {
        "id": "EHLxwwz_pkJi",
        "colab": {
          "base_uri": "https://localhost:8080/"
        },
        "outputId": "85557327-e525-4f70-a31c-c93db0c30454"
      },
      "id": "EHLxwwz_pkJi",
      "execution_count": null,
      "outputs": [
        {
          "output_type": "stream",
          "name": "stdout",
          "text": [
            "Validation AUC=0.790080971659919\n",
            "Accuracy: 0.9909443725743855\n",
            "Classification Report:\n",
            "               precision    recall  f1-score   support\n",
            "\n",
            "           0       0.99      1.00      1.00       760\n",
            "           1       1.00      0.46      0.63        13\n",
            "\n",
            "    accuracy                           0.99       773\n",
            "   macro avg       1.00      0.73      0.81       773\n",
            "weighted avg       0.99      0.99      0.99       773\n",
            "\n"
          ]
        }
      ]
    },
    {
      "cell_type": "markdown",
      "source": [
        "# Picking the Best Model"
      ],
      "metadata": {
        "id": "hnEVV2WBY2Zl"
      },
      "id": "hnEVV2WBY2Zl"
    },
    {
      "cell_type": "code",
      "source": [
        "import numpy as np\n",
        "import xgboost as xgb\n",
        "from sklearn.ensemble import RandomForestClassifier\n",
        "from sklearn.linear_model import LogisticRegression\n",
        "from sklearn.metrics import roc_auc_score, accuracy_score, classification_report\n",
        "from sklearn.model_selection import RandomizedSearchCV\n",
        "from scipy.stats import randint as sp_randint\n",
        "from scipy.stats import uniform\n",
        "\n",
        "# Random Forest Classifier\n",
        "rfc = RandomForestClassifier()\n",
        "\n",
        "# Logistic Regression\n",
        "logreg = LogisticRegression()\n",
        "\n",
        "# XGBClassifier\n",
        "xgb_clf = xgb.XGBClassifier()\n",
        "\n",
        "# Define the parameter grids\n",
        "param_dist_rfc = {\n",
        "    'n_estimators': sp_randint(10, 200),\n",
        "    'max_depth': sp_randint(1, 20),\n",
        "    'min_samples_split': sp_randint(2, 50),\n",
        "    'min_samples_leaf': sp_randint(1, 20),\n",
        "    'max_features': ['sqrt', 'log2', None],\n",
        "}\n",
        "\n",
        "param_dist_logreg = {\n",
        "    'penalty': ['l1', 'l2', 'elasticnet', 'none'],\n",
        "    'C': uniform(0.001, 100),\n",
        "    'solver': ['newton-cg', 'lbfgs', 'liblinear', 'sag', 'saga'],\n",
        "    'max_iter': [100, 500, 1000, 2000],\n",
        "}\n",
        "\n",
        "param_dist_xgb = {\n",
        "    'learning_rate': uniform(0.01, 0.2),\n",
        "    'max_depth': sp_randint(1, 10),\n",
        "    'min_child_weight': sp_randint(1, 10),\n",
        "    'gamma': uniform(0, 0.2),\n",
        "    'subsample': uniform(0.5, 0.5),\n",
        "    'colsample_bytree': uniform(0.5, 0.5),\n",
        "    'n_estimators': sp_randint(10, 200),\n",
        "}\n",
        "\n",
        "# Create the RandomizedSearchCV objects\n",
        "random_search_rfc = RandomizedSearchCV(rfc, param_distributions=param_dist_rfc, n_iter = 5, scoring='roc_auc', cv=5, verbose=1, n_jobs=-1, random_state=42)\n",
        "random_search_logreg = RandomizedSearchCV(logreg, param_distributions=param_dist_logreg, n_iter = 5, scoring='roc_auc', cv=5, verbose=1, n_jobs=-1, random_state=42)\n",
        "random_search_xgb = RandomizedSearchCV(xgb_clf, param_distributions=param_dist_xgb, n_iter = 5, scoring='roc_auc', cv=5, verbose=1, n_jobs=-1, random_state=42)\n",
        "\n",
        "# Fit the RandomizedSearchCV objects\n",
        "random_search_rfc.fit(X_train_smote, y_train_smote)\n",
        "random_search_logreg.fit(X_train_smote, y_train_smote)\n",
        "random_search_xgb.fit(X_train_smote, y_train_smote)\n",
        "\n",
        "# Compare the best scores\n",
        "best_scores = {\n",
        "    'RandomForest': random_search_rfc.best_score_,\n",
        "    'LogisticRegression': random_search_logreg.best_score_,\n",
        "    'XGBClassifier': random_search_xgb.best_score_,\n",
        "}\n",
        "\n",
        "best_model_name = max(best_scores, key=best_scores.get)\n",
        "\n",
        "model_dict = {\n",
        "    'RandomForest': random_search_rfc,\n",
        "    'LogisticRegression': random_search_logreg,\n",
        "    'XGBClassifier': random_search_xgb\n",
        "}\n",
        "\n",
        "best_model = model_dict[best_model_name]\n",
        "\n",
        "\n",
        "print(\"Best model:\", best_model_name)\n",
        "print(\"Best score:\", best_scores[best_model_name])\n",
        "\n",
        "# Use the best estimator\n",
        "best_estimator = best_model.best_estimator_\n",
        "\n",
        "# Predict probabilities\n",
        "y_predproba = best_estimator.predict_proba(X_val_scaled)\n",
        "\n",
        "# Calculate the ROC AUC score\n",
        "print(f'Validation AUC={roc_auc_score(y_val, y_predproba[:, 1])}')\n",
        "\n",
        "# Make predictions\n",
        "y_pred = best_estimator.predict(X_val_scaled)\n",
        "\n",
        "# Calculate the accuracy\n",
        "print(\"Accuracy:\", accuracy_score(y_val, y_pred))\n",
        "\n",
        "# Print the classification report\n",
        "print(\"Classification Report:\\n\", classification_report(y_val, y_pred))\n"
      ],
      "metadata": {
        "id": "EpvUo8WEY97R",
        "colab": {
          "base_uri": "https://localhost:8080/"
        },
        "outputId": "597a24d3-8c84-4394-8ac9-98928c6d9d88"
      },
      "id": "EpvUo8WEY97R",
      "execution_count": null,
      "outputs": [
        {
          "output_type": "stream",
          "name": "stdout",
          "text": [
            "Fitting 5 folds for each of 5 candidates, totalling 25 fits\n",
            "Fitting 5 folds for each of 5 candidates, totalling 25 fits\n",
            "Fitting 5 folds for each of 5 candidates, totalling 25 fits\n",
            "Best model: XGBClassifier\n",
            "Best score: 0.998750122537006\n",
            "Validation AUC=0.8837044534412956\n",
            "Accuracy: 0.9896507115135834\n",
            "Classification Report:\n",
            "               precision    recall  f1-score   support\n",
            "\n",
            "           0       0.99      1.00      0.99       760\n",
            "           1       0.86      0.46      0.60        13\n",
            "\n",
            "    accuracy                           0.99       773\n",
            "   macro avg       0.92      0.73      0.80       773\n",
            "weighted avg       0.99      0.99      0.99       773\n",
            "\n"
          ]
        }
      ]
    },
    {
      "cell_type": "markdown",
      "source": [
        "# Analyze the results by quartile"
      ],
      "metadata": {
        "id": "x8jNHFQDcP_A"
      },
      "id": "x8jNHFQDcP_A"
    },
    {
      "cell_type": "code",
      "source": [
        "import pandas as pd\n",
        "import numpy as np\n",
        "\n",
        "# Use the best_estimator to predict probabilities for the validation set\n",
        "y_predproba = best_estimator.predict_proba(X_val_scaled)\n",
        "\n",
        "# Extract the probabilities for the positive class (assuming it's the second column)\n",
        "positive_probs = y_predproba[:, 1]\n",
        "\n",
        "# Calculate quartiles for the predicted probabilities\n",
        "quartiles = pd.qcut(positive_probs, q=4, labels=[\"Q1\", \"Q2\", \"Q3\", \"Q4\"])\n",
        "\n",
        "# Create a DataFrame with the true labels, predicted probabilities, and quartiles\n",
        "results = pd.DataFrame({\n",
        "    'true_labels': y_val,\n",
        "    'predicted_probs': positive_probs,\n",
        "    'quartiles': quartiles\n",
        "})\n",
        "\n",
        "# Analyze the results by quartile\n",
        "results_by_quartile = results.groupby('quartiles').agg({\n",
        "    'true_labels': ['count', 'sum'],\n",
        "    'predicted_probs': ['mean']\n",
        "})\n",
        "\n",
        "results_by_quartile.columns = ['count', 'positive_count', 'mean_predicted_prob']\n",
        "results_by_quartile.reset_index(inplace=True)\n",
        "\n",
        "print(results_by_quartile)\n"
      ],
      "metadata": {
        "id": "eE4BPF8QcO88",
        "colab": {
          "base_uri": "https://localhost:8080/"
        },
        "outputId": "4c9fba51-6299-484d-efc3-6cbe2883df29"
      },
      "id": "eE4BPF8QcO88",
      "execution_count": null,
      "outputs": [
        {
          "output_type": "stream",
          "name": "stdout",
          "text": [
            "  quartiles  count  positive_count  mean_predicted_prob\n",
            "0        Q1    194               0             0.000408\n",
            "1        Q2    193               1             0.001281\n",
            "2        Q3    193               2             0.004005\n",
            "3        Q4    193              10             0.063383\n"
          ]
        }
      ]
    }
  ],
  "metadata": {
    "kernelspec": {
      "display_name": "Python 3",
      "language": "python",
      "name": "python3"
    },
    "language_info": {
      "codemirror_mode": {
        "name": "ipython",
        "version": 3
      },
      "file_extension": ".py",
      "mimetype": "text/x-python",
      "name": "python",
      "nbconvert_exporter": "python",
      "pygments_lexer": "ipython3",
      "version": "3.7.12"
    },
    "papermill": {
      "default_parameters": {},
      "duration": 573.464968,
      "end_time": "2022-08-05T06:57:39.066370",
      "environment_variables": {},
      "exception": null,
      "input_path": "__notebook__.ipynb",
      "output_path": "__notebook__.ipynb",
      "parameters": {},
      "start_time": "2022-08-05T06:48:05.601402",
      "version": "2.3.4"
    },
    "colab": {
      "provenance": []
    },
    "accelerator": "TPU",
    "gpuClass": "standard"
  },
  "nbformat": 4,
  "nbformat_minor": 5
}